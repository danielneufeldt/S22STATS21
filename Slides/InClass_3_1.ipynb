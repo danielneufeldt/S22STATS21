{
 "cells": [
  {
   "cell_type": "markdown",
   "id": "91c1b7a2-d5fe-4021-9d27-ed561c588c31",
   "metadata": {},
   "source": [
    "# In Class Activity 3.1\n",
    "\n",
    "Please include a copy of your team selfie/grelfie/usie whatever it goes by:"
   ]
  },
  {
   "cell_type": "markdown",
   "id": "3049365e-82dd-4609-90bb-bb7556a0e739",
   "metadata": {
    "tags": []
   },
   "source": [
    "![SWS](http://statistics.ucla.edu/wp-content/uploads/2019/01/SWS_FacultyStaffStudentLunch-890x367.jpg)"
   ]
  },
  {
   "cell_type": "markdown",
   "id": "9838327e-e5e5-4e83-98d0-505d2f3f3e05",
   "metadata": {},
   "source": [
    "In the next cell demonstrate a list construction:"
   ]
  },
  {
   "cell_type": "markdown",
   "id": "24a7dc63-f4a2-4b6c-b1b2-39ad46872477",
   "metadata": {},
   "source": [
    "## Activity 1"
   ]
  },
  {
   "cell_type": "code",
   "execution_count": null,
   "id": "a47a9d2f-fb7f-4caf-99a0-7f93c86a6af5",
   "metadata": {},
   "outputs": [],
   "source": [
    "## list construction\n",
    "\n"
   ]
  },
  {
   "cell_type": "markdown",
   "id": "ed9bf20e-9ecf-408e-b906-ce77613003d0",
   "metadata": {},
   "source": [
    "## Activity 2"
   ]
  },
  {
   "cell_type": "code",
   "execution_count": null,
   "id": "c7d6c1d4-b9fd-428e-81a5-f1d45dc141a5",
   "metadata": {},
   "outputs": [],
   "source": []
  }
 ],
 "metadata": {
  "kernelspec": {
   "display_name": "Python 3 (ipykernel)",
   "language": "python",
   "name": "python3"
  },
  "language_info": {
   "codemirror_mode": {
    "name": "ipython",
    "version": 3
   },
   "file_extension": ".py",
   "mimetype": "text/x-python",
   "name": "python",
   "nbconvert_exporter": "python",
   "pygments_lexer": "ipython3",
   "version": "3.9.7"
  }
 },
 "nbformat": 4,
 "nbformat_minor": 5
}
