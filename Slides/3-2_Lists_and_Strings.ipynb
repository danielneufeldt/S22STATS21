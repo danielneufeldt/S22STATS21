{
 "cells": [
  {
   "cell_type": "markdown",
   "id": "a4812fd6-765c-48dc-89cb-2fe48814f734",
   "metadata": {
    "slideshow": {
     "slide_type": "slide"
    }
   },
   "source": [
    "# Lecture 3-2\n",
    "\n",
    "# Lists Part 2 and Strings\n",
    "\n",
    "## Week 3 Wednesday\n",
    "\n",
    "## with thanks to Miles Chen, PhD\n",
    "\n",
    "Adapted from Chapter 6 of Think Python by Allen B Downey\n",
    "\n",
    "List content adapted from \"Whirlwind Tour of Python\" by Jake VanderPlas"
   ]
  },
  {
   "cell_type": "markdown",
   "id": "b209a7d8-dc4f-4cf0-8a67-e81d62abd010",
   "metadata": {
    "slideshow": {
     "slide_type": "slide"
    },
    "tags": []
   },
   "source": [
    "# List Methods\n",
    "\n",
    "- `list.copy()`\n",
    "    - Return a shallow copy of the list. Equivalent to a[:]\n",
    "- `list.append(x)`\n",
    "    - Add an item to the end of the list. Equivalent to a[len(a):] = [x]."
   ]
  },
  {
   "cell_type": "code",
   "execution_count": 1,
   "id": "26e13a04-ebba-4a48-adfd-257ee13981ff",
   "metadata": {
    "slideshow": {
     "slide_type": "skip"
    },
    "tags": []
   },
   "outputs": [],
   "source": [
    "favs = [\"Rose Donut\", 4.5, [\"Sat 5:00 AM - 3:00 PM\", \"Sun 5:00 AM - 3:00 PM\"], \n",
    "       \"Porto's\", 4.0, [\"Sat 6:30 AM - 8:00 PM\", \"Sun 6:30 AM - 8:00 PM\"],\n",
    "       \"Bagel Broker\", 4.5, [\"Sat 7:00 AM - 2:00 PM\", \"Sun 7:00 AM - 2:00 PM\"]]\n",
    "favs2 = favs # assign favs to favs2\n",
    "x = favs[:]  # assign a shallow copy of favs to x\n",
    "favs[1] , favs[0] = favs[0], favs[1] # modify favs\n",
    "favs2[3], favs2[4] = favs2[4], favs2[3]\n",
    "x[1] = 5.0 # modify the shallow copy\n",
    "favs2[6:8] = [4.5, \"Bagel Broker\"] "
   ]
  },
  {
   "cell_type": "code",
   "execution_count": 2,
   "id": "6ea19bd0-edba-4b4b-903c-b8cf3bd37a2e",
   "metadata": {
    "slideshow": {
     "slide_type": "slide"
    },
    "tags": []
   },
   "outputs": [
    {
     "name": "stdout",
     "output_type": "stream",
     "text": [
      "[4.5, 'Rose Donut', ['Sat 5:00 AM - 3:00 PM', 'Sun 5:00 AM - 3:00 PM'], 4.0, \"Porto's\", ['Sat 6:30 AM - 8:00 PM', 'Sun 6:30 AM - 8:00 PM'], 4.5, 'Bagel Broker', ['Sat 7:00 AM - 2:00 PM', 'Sun 7:00 AM - 2:00 PM'], 4.6]\n"
     ]
    }
   ],
   "source": [
    "favs.append(4.6)   # unlike R, you don't have to \"capture\" the result of the function. \n",
    "# the list itself is modified. You can only append one item.\n",
    "print(favs)"
   ]
  },
  {
   "cell_type": "code",
   "execution_count": 3,
   "id": "2ecbf179-169a-4246-bfad-7cc4048d46f8",
   "metadata": {
    "slideshow": {
     "slide_type": "slide"
    },
    "tags": []
   },
   "outputs": [
    {
     "name": "stdout",
     "output_type": "stream",
     "text": [
      "[4.5, 'Rose Donut', ['Sat 5:00 AM - 3:00 PM', 'Sun 5:00 AM - 3:00 PM'], 4.0, \"Porto's\", ['Sat 6:30 AM - 8:00 PM', 'Sun 6:30 AM - 8:00 PM'], 4.5, 'Bagel Broker', ['Sat 7:00 AM - 2:00 PM', 'Sun 7:00 AM - 2:00 PM'], 4.6]\n"
     ]
    }
   ],
   "source": [
    "print(favs2)"
   ]
  },
  {
   "cell_type": "code",
   "execution_count": 4,
   "id": "f14c6d1f-c062-418a-b69c-1710bacec499",
   "metadata": {
    "slideshow": {
     "slide_type": "slide"
    },
    "tags": []
   },
   "outputs": [
    {
     "name": "stdout",
     "output_type": "stream",
     "text": [
      "[4.5, 'Rose Donut', ['Sat 5:00 AM - 3:00 PM', 'Sun 5:00 AM - 3:00 PM'], 4.0, \"Porto's\", ['Sat 6:30 AM - 8:00 PM', 'Sun 6:30 AM - 8:00 PM'], 4.5, 'Bagel Broker', ['Sat 7:00 AM - 2:00 PM', 'Sun 7:00 AM - 2:00 PM'], 4.6, 'La Azteca Tortilleria']\n"
     ]
    }
   ],
   "source": [
    "favs = favs + [\"La Azteca Tortilleria\"]  # you can also append to a list with the addition `+` operator\n",
    "# note that this output needs to be 'captured' and assigned back to fam\n",
    "print(favs)"
   ]
  },
  {
   "cell_type": "code",
   "execution_count": 5,
   "id": "3de448b4-8cd5-49d7-92d0-c2f99a4975b2",
   "metadata": {
    "slideshow": {
     "slide_type": "slide"
    },
    "tags": []
   },
   "outputs": [
    {
     "name": "stdout",
     "output_type": "stream",
     "text": [
      "[4.5, 'Rose Donut', ['Sat 5:00 AM - 3:00 PM', 'Sun 5:00 AM - 3:00 PM'], 4.0, \"Porto's\", ['Sat 6:30 AM - 8:00 PM', 'Sun 6:30 AM - 8:00 PM'], 4.5, 'Bagel Broker', ['Sat 7:00 AM - 2:00 PM', 'Sun 7:00 AM - 2:00 PM'], 4.6]\n"
     ]
    }
   ],
   "source": [
    "print(favs2) # and look what happens to our copy..."
   ]
  },
  {
   "cell_type": "code",
   "execution_count": 6,
   "id": "68ab8b1c-c2ea-4c6c-ac25-04f7bbe2ef09",
   "metadata": {
    "slideshow": {
     "slide_type": "slide"
    }
   },
   "outputs": [],
   "source": [
    "favs.append(['Sat 7:00 AM - 3:30 PM', 'Sun 7:00 AM - 3:30 PM'])"
   ]
  },
  {
   "cell_type": "code",
   "execution_count": 7,
   "id": "3e770095-e5f4-44d9-9c82-9cbffab5c721",
   "metadata": {
    "slideshow": {
     "slide_type": "fragment"
    },
    "tags": []
   },
   "outputs": [
    {
     "data": {
      "text/plain": [
       "[4.5,\n",
       " 'Rose Donut',\n",
       " ['Sat 5:00 AM - 3:00 PM', 'Sun 5:00 AM - 3:00 PM'],\n",
       " 4.0,\n",
       " \"Porto's\",\n",
       " ['Sat 6:30 AM - 8:00 PM', 'Sun 6:30 AM - 8:00 PM'],\n",
       " 4.5,\n",
       " 'Bagel Broker',\n",
       " ['Sat 7:00 AM - 2:00 PM', 'Sun 7:00 AM - 2:00 PM'],\n",
       " 4.6,\n",
       " 'La Azteca Tortilleria',\n",
       " ['Sat 7:00 AM - 3:30 PM', 'Sun 7:00 AM - 3:30 PM']]"
      ]
     },
     "execution_count": 7,
     "metadata": {},
     "output_type": "execute_result"
    }
   ],
   "source": [
    "favs"
   ]
  },
  {
   "cell_type": "code",
   "execution_count": 8,
   "id": "27ba854e-4153-4f95-827b-62a179889d83",
   "metadata": {
    "slideshow": {
     "slide_type": "slide"
    },
    "tags": []
   },
   "outputs": [
    {
     "data": {
      "text/plain": [
       "[4.5,\n",
       " 'Rose Donut',\n",
       " ['Sat 5:00 AM - 3:00 PM', 'Sun 5:00 AM - 3:00 PM'],\n",
       " 4.0,\n",
       " \"Porto's\",\n",
       " ['Sat 6:30 AM - 8:00 PM', 'Sun 6:30 AM - 8:00 PM'],\n",
       " 4.5,\n",
       " 'Bagel Broker',\n",
       " ['Sat 7:00 AM - 2:00 PM', 'Sun 7:00 AM - 2:00 PM'],\n",
       " 4.6]"
      ]
     },
     "execution_count": 8,
     "metadata": {},
     "output_type": "execute_result"
    }
   ],
   "source": [
    "favs2 # reassignment broke their relationship"
   ]
  },
  {
   "cell_type": "code",
   "execution_count": 9,
   "id": "ce546508-2e12-4282-9ad7-c633e171d562",
   "metadata": {
    "slideshow": {
     "slide_type": "slide"
    }
   },
   "outputs": [
    {
     "data": {
      "text/plain": [
       "[4.5,\n",
       " 'Rose Donut',\n",
       " ['Sat 5:00 AM - 3:00 PM', 'Sun 5:00 AM - 3:00 PM'],\n",
       " 4.0,\n",
       " \"Porto's\",\n",
       " ['Sat 6:30 AM - 8:00 PM', 'Sun 6:30 AM - 8:00 PM'],\n",
       " 4.5,\n",
       " 'Bagel Broker',\n",
       " ['Sat 7:00 AM - 2:00 PM', 'Sun 7:00 AM - 2:00 PM'],\n",
       " 4.6,\n",
       " 'La Azteca Tortilleria',\n",
       " ['Sat 7:00 AM - 3:30 PM', 'Sun 7:00 AM - 3:30 PM']]"
      ]
     },
     "execution_count": 9,
     "metadata": {},
     "output_type": "execute_result"
    }
   ],
   "source": [
    "favs2 +['La Azteca Tortilleria',['Sat 7:00 AM - 3:30 PM', 'Sun 7:00 AM - 3:30 PM']] # plus operator concatenates the lists"
   ]
  },
  {
   "cell_type": "code",
   "execution_count": 10,
   "id": "3c1a2169-5d6d-461b-a9bc-6928f674b9d9",
   "metadata": {
    "slideshow": {
     "slide_type": "slide"
    },
    "tags": []
   },
   "outputs": [
    {
     "data": {
      "text/plain": [
       "[4.5,\n",
       " 'Rose Donut',\n",
       " ['Sat 5:00 AM - 3:00 PM', 'Sun 5:00 AM - 3:00 PM'],\n",
       " 4.0,\n",
       " \"Porto's\",\n",
       " ['Sat 6:30 AM - 8:00 PM', 'Sun 6:30 AM - 8:00 PM'],\n",
       " 4.5,\n",
       " 'Bagel Broker',\n",
       " ['Sat 7:00 AM - 2:00 PM', 'Sun 7:00 AM - 2:00 PM'],\n",
       " 4.6,\n",
       " 'La Azteca Tortilleria',\n",
       " ['Sat 7:00 AM - 3:30 PM', 'Sun 7:00 AM - 3:30 PM']]"
      ]
     },
     "execution_count": 10,
     "metadata": {},
     "output_type": "execute_result"
    }
   ],
   "source": [
    "favs # sanity check"
   ]
  },
  {
   "cell_type": "code",
   "execution_count": 11,
   "id": "5a6dd497-c495-412a-a708-bb416a2954ba",
   "metadata": {
    "slideshow": {
     "slide_type": "slide"
    },
    "tags": []
   },
   "outputs": [
    {
     "data": {
      "text/plain": [
       "['Rose Donut',\n",
       " 5.0,\n",
       " ['Sat 5:00 AM - 3:00 PM', 'Sun 5:00 AM - 3:00 PM'],\n",
       " \"Porto's\",\n",
       " 4.0,\n",
       " ['Sat 6:30 AM - 8:00 PM', 'Sun 6:30 AM - 8:00 PM'],\n",
       " 'Bagel Broker',\n",
       " 4.5,\n",
       " ['Sat 7:00 AM - 2:00 PM', 'Sun 7:00 AM - 2:00 PM']]"
      ]
     },
     "execution_count": 11,
     "metadata": {},
     "output_type": "execute_result"
    }
   ],
   "source": [
    "x # sanity check"
   ]
  },
  {
   "cell_type": "markdown",
   "id": "a811d253-d102-4a27-9748-d6556c1e8614",
   "metadata": {
    "slideshow": {
     "slide_type": "slide"
    },
    "tags": []
   },
   "source": [
    "#### Copy vs. Deep Copy Example using the copy module\n",
    "\n",
    "- `list.copy` and `list[:]` both create shallow copies. \n",
    "\n",
    "- A shallow copy creates a copy of the list, but does not create new copies of any objects that the list references.  It references the same location in memory.\n",
    "\n",
    "- A deep copy will copy the list and create copies of objects that the list references.  The copied objects are in a new location."
   ]
  },
  {
   "cell_type": "code",
   "execution_count": 12,
   "id": "ef4a8a19-d564-4baa-ac68-7754924d0b0e",
   "metadata": {
    "slideshow": {
     "slide_type": "slide"
    },
    "tags": []
   },
   "outputs": [
    {
     "name": "stdout",
     "output_type": "stream",
     "text": [
      "[['a', 1, 2], ['b', 3, 4], 'x']\n",
      "[['a', 1, 2], ['b', 3, 4]]\n",
      "[['a', 1, 2], ['b', 3, 4]]\n",
      "[['a', 1, 2], ['b', 3, 4], 'x']\n"
     ]
    }
   ],
   "source": [
    "a = [\"a\", 1, 2]\n",
    "b = [\"b\", 3, 4]\n",
    "c = [a, b]\n",
    "\n",
    "import copy\n",
    "d = c[:]  # d is a shallow copy of c\n",
    "e = copy.deepcopy(c)  # e is a deep copy of c\n",
    "f = c # assigned c to f\n",
    "\n",
    "c.append(\"x\")  # modify c\n",
    "print(c) # c reflects the change\n",
    "print(d) # d is a shallow copy and is not changed\n",
    "print(e) # e is a deep copy and is not changed\n",
    "print(f) # f is assigned c"
   ]
  },
  {
   "cell_type": "code",
   "execution_count": 13,
   "id": "8a6696be-cd60-4026-b8f1-a1e19830daee",
   "metadata": {
    "slideshow": {
     "slide_type": "slide"
    },
    "tags": []
   },
   "outputs": [
    {
     "name": "stdout",
     "output_type": "stream",
     "text": [
      "[['a', 1, 2, 'z'], ['b', 3, 4], 'x']\n",
      "[['a', 1, 2, 'z'], ['b', 3, 4]]\n",
      "[['a', 1, 2], ['b', 3, 4]]\n",
      "[['a', 1, 2, 'z'], ['b', 3, 4], 'x']\n"
     ]
    }
   ],
   "source": [
    "a.append(\"z\")  # modify list a, an element in c\n",
    "print(c) # c reflects change\n",
    "print(d) # d shallow copy of c and reflects the change\n",
    "print(e) # is a deep copy and is not affected by changes to underlying elements\n",
    "print(f) # f is assigned c and reflects changes in c"
   ]
  },
  {
   "cell_type": "markdown",
   "id": "44a5504b-8b45-4d10-a9c4-3b6f40bc6813",
   "metadata": {
    "slideshow": {
     "slide_type": "slide"
    }
   },
   "source": [
    "## insert and extend\n",
    "\n",
    "- `list.insert(i, x)`\n",
    "    - Insert an item at a given position. The first argument is the index of the element before which to insert, so a.insert(0, x) inserts at the front of the list, and a.insert(len(a), x) is equivalent to a.append(x).\n",
    "\n",
    "- `list.extend(iterable)`\n",
    "    - Extend the list by appending all the items from the iterable. Equivalent to a[len(a):] = iterable."
   ]
  },
  {
   "cell_type": "code",
   "execution_count": 14,
   "id": "4d59db42-40d5-4a65-9b7e-c522ab593290",
   "metadata": {
    "slideshow": {
     "slide_type": "slide"
    }
   },
   "outputs": [
    {
     "name": "stdout",
     "output_type": "stream",
     "text": [
      "['liz', 1.73, 'emma', 1.68, 'joe', 'mom', 1.71, 'dad', 1.89]\n"
     ]
    }
   ],
   "source": [
    "fam = [\"liz\", 1.73, \"emma\", 1.68, \"mom\", 1.71, \"dad\", 1.89]\n",
    "fam.insert(4, \"joe\") # inserts joe at the location of the 4th comma between 1.68 and mom\n",
    "print(fam)"
   ]
  },
  {
   "cell_type": "code",
   "execution_count": 15,
   "id": "661406b2-7508-493c-9d14-a4c2e3644fad",
   "metadata": {
    "slideshow": {
     "slide_type": "fragment"
    },
    "tags": []
   },
   "outputs": [
    {
     "name": "stdout",
     "output_type": "stream",
     "text": [
      "['liz', 1.73, 'emma', 1.68, ['joe', 2.0], 'mom', 1.71, 'dad', 1.89]\n"
     ]
    }
   ],
   "source": [
    "fam = [\"liz\", 1.73, \"emma\", 1.68, \"mom\", 1.71, \"dad\", 1.89]\n",
    "fam.insert(4, [\"joe\", 2.0])  # trying to insert multiple items by using a list inserts a list\n",
    "print(fam)"
   ]
  },
  {
   "cell_type": "code",
   "execution_count": 16,
   "id": "c6e92b40-d4ea-4c94-bff5-0aaf94723e6b",
   "metadata": {
    "slideshow": {
     "slide_type": "slide"
    },
    "tags": [
     "raises-exception"
    ]
   },
   "outputs": [
    {
     "ename": "TypeError",
     "evalue": "insert expected 2 arguments, got 3",
     "output_type": "error",
     "traceback": [
      "\u001b[0;31m---------------------------------------------------------------------------\u001b[0m",
      "\u001b[0;31mTypeError\u001b[0m                                 Traceback (most recent call last)",
      "\u001b[0;32m/var/folders/2z/y8vhcz612_5bbs23g3cpndqm0000gn/T/ipykernel_54073/1622468637.py\u001b[0m in \u001b[0;36m<module>\u001b[0;34m\u001b[0m\n\u001b[1;32m      1\u001b[0m \u001b[0mfam\u001b[0m \u001b[0;34m=\u001b[0m \u001b[0;34m[\u001b[0m\u001b[0;34m\"liz\"\u001b[0m\u001b[0;34m,\u001b[0m \u001b[0;36m1.73\u001b[0m\u001b[0;34m,\u001b[0m \u001b[0;34m\"emma\"\u001b[0m\u001b[0;34m,\u001b[0m \u001b[0;36m1.68\u001b[0m\u001b[0;34m,\u001b[0m \u001b[0;34m\"mom\"\u001b[0m\u001b[0;34m,\u001b[0m \u001b[0;36m1.71\u001b[0m\u001b[0;34m,\u001b[0m \u001b[0;34m\"dad\"\u001b[0m\u001b[0;34m,\u001b[0m \u001b[0;36m1.89\u001b[0m\u001b[0;34m]\u001b[0m\u001b[0;34m\u001b[0m\u001b[0;34m\u001b[0m\u001b[0m\n\u001b[0;32m----> 2\u001b[0;31m \u001b[0mfam\u001b[0m\u001b[0;34m.\u001b[0m\u001b[0minsert\u001b[0m\u001b[0;34m(\u001b[0m\u001b[0;36m4\u001b[0m\u001b[0;34m,\u001b[0m \u001b[0;34m\"joe\"\u001b[0m\u001b[0;34m,\u001b[0m \u001b[0;36m2.0\u001b[0m\u001b[0;34m)\u001b[0m  \u001b[0;31m# like append, you can only insert one item\u001b[0m\u001b[0;34m\u001b[0m\u001b[0;34m\u001b[0m\u001b[0m\n\u001b[0m\u001b[1;32m      3\u001b[0m \u001b[0;31m# trying to insert multiple items causes and error\u001b[0m\u001b[0;34m\u001b[0m\u001b[0;34m\u001b[0m\u001b[0m\n\u001b[1;32m      4\u001b[0m \u001b[0mprint\u001b[0m\u001b[0;34m(\u001b[0m\u001b[0mfam\u001b[0m\u001b[0;34m)\u001b[0m\u001b[0;34m\u001b[0m\u001b[0;34m\u001b[0m\u001b[0m\n",
      "\u001b[0;31mTypeError\u001b[0m: insert expected 2 arguments, got 3"
     ]
    }
   ],
   "source": [
    "fam = [\"liz\", 1.73, \"emma\", 1.68, \"mom\", 1.71, \"dad\", 1.89]\n",
    "fam.insert(4, \"joe\", 2.0)  # like append, you can only insert one item\n",
    "# trying to insert multiple items causes and error\n",
    "print(fam)"
   ]
  },
  {
   "cell_type": "code",
   "execution_count": 17,
   "id": "b854d75d-4c80-4dc3-be8e-eaf37e32d401",
   "metadata": {
    "slideshow": {
     "slide_type": "slide"
    }
   },
   "outputs": [
    {
     "name": "stdout",
     "output_type": "stream",
     "text": [
      "['liz', 1.73, 'emma', 1.68, 'mom', 1.71, 'dad', 1.89, 'joe', 2.0]\n"
     ]
    }
   ],
   "source": [
    "fam = [\"liz\", 1.73, \"emma\", 1.68, \"mom\", 1.71, \"dad\", 1.89]\n",
    "fam.extend([\"joe\", 2.0]) # lets you add multiple items, but at the end\n",
    "print(fam)"
   ]
  },
  {
   "cell_type": "code",
   "execution_count": 18,
   "id": "ef6f028e-0dcb-4a7f-83ca-10bd5abb2b9d",
   "metadata": {
    "slideshow": {
     "slide_type": "fragment"
    },
    "tags": []
   },
   "outputs": [
    {
     "name": "stdout",
     "output_type": "stream",
     "text": [
      "['liz', 1.73, 'emma', 1.68, 'joe', 2.0, 'mom', 1.71, 'dad', 1.89]\n"
     ]
    }
   ],
   "source": [
    "fam = [\"liz\", 1.73, \"emma\", 1.68, \"mom\", 1.71, \"dad\", 1.89]\n",
    "fam[4:4] = [\"joe\", 2.0] # Use slice and assignment to insert multiple items in a specific position\n",
    "print(fam)"
   ]
  },
  {
   "cell_type": "markdown",
   "id": "2fb5966f-bd4a-4b95-a72e-281f893d15da",
   "metadata": {
    "slideshow": {
     "slide_type": "slide"
    }
   },
   "source": [
    "## Remove/pop/clear\n",
    "\n",
    "- `list.remove(x)`\n",
    "    - Remove the first item from the list whose value is x. It is an error if there is no such item.\n",
    "\n",
    "- `list.pop([i])`\n",
    "    - Remove the item at the given position in the list, and return it. If no index is specified, a.pop() removes and returns the last item in the list.\n",
    "\n",
    "- `list.clear()`\n",
    "    - Remove all items from the list. Equivalent to del a[:].\n"
   ]
  },
  {
   "cell_type": "code",
   "execution_count": 19,
   "id": "a747565a-b5ce-4f59-a34e-7cfdf5b0b29b",
   "metadata": {
    "slideshow": {
     "slide_type": "slide"
    },
    "tags": []
   },
   "outputs": [
    {
     "name": "stdout",
     "output_type": "stream",
     "text": [
      "[1.73, 'emma', 1.68, 'mom', 1.71, 'dad', 1.89]\n"
     ]
    }
   ],
   "source": [
    "fam = [\"liz\", 1.73, \"emma\", 1.68, \"mom\", 1.71, \"dad\", 1.89]\n",
    "fam.remove(\"liz\")\n",
    "print(fam)"
   ]
  },
  {
   "cell_type": "code",
   "execution_count": 20,
   "id": "16de49d7-0697-4de6-bb68-10b2a38d32aa",
   "metadata": {
    "slideshow": {
     "slide_type": "fragment"
    },
    "tags": []
   },
   "outputs": [
    {
     "name": "stdout",
     "output_type": "stream",
     "text": [
      "1.89\n",
      "['liz', 1.73, 'emma', 1.68, 'mom', 1.71, 'dad']\n"
     ]
    }
   ],
   "source": [
    "fam = [\"liz\", 1.73, \"emma\", 1.68, \"mom\", 1.71, \"dad\", 1.89]\n",
    "j = fam.pop()  # if you don't specify an index, it pops the last item in the list\n",
    "# default behavior of pop() without any arguments is like a stack. last in first out\n",
    "print(j)\n",
    "print(fam)"
   ]
  },
  {
   "cell_type": "code",
   "execution_count": 21,
   "id": "0d30e6f8-7540-433b-9f86-4238af815551",
   "metadata": {
    "slideshow": {
     "slide_type": "slide"
    },
    "tags": []
   },
   "outputs": [
    {
     "name": "stdout",
     "output_type": "stream",
     "text": [
      "liz\n",
      "[1.73, 'emma', 1.68, 'mom', 1.71, 'dad', 1.89]\n",
      "[]\n"
     ]
    }
   ],
   "source": [
    "fam = [\"liz\", 1.73, \"emma\", 1.68, \"mom\", 1.71, \"dad\", 1.89]\n",
    "j = fam.pop(0)  # you can also specify an index.\n",
    "# Using index 0 makes pop behave like a queue. first in first out\n",
    "print(j)\n",
    "print(fam)\n",
    "\n",
    "fam.clear()\n",
    "print(fam)"
   ]
  },
  {
   "cell_type": "markdown",
   "id": "eb5cf006-c429-4cfd-b07d-f913b15bec96",
   "metadata": {
    "slideshow": {
     "slide_type": "slide"
    }
   },
   "source": [
    "## Index and count\n",
    "\n",
    "- `list.index(x)`\n",
    "    - Return zero-based index in the list of the first item whose value is x. Raises a ValueError if there is no such item.\n",
    "- `list.count(x)`\n",
    "    - Return the number of times x appears in the list."
   ]
  },
  {
   "cell_type": "code",
   "execution_count": 22,
   "id": "86a86700-4fea-4cf9-9001-78d98b0b7679",
   "metadata": {
    "slideshow": {
     "slide_type": "slide"
    },
    "tags": []
   },
   "outputs": [
    {
     "data": {
      "text/plain": [
       "2"
      ]
     },
     "execution_count": 22,
     "metadata": {},
     "output_type": "execute_result"
    }
   ],
   "source": [
    "fam = [\"liz\", 1.73, \"emma\", 1.68, \"mom\", 1.71, \"dad\", 1.89]\n",
    "fam.index(\"emma\")"
   ]
  },
  {
   "cell_type": "code",
   "execution_count": 23,
   "id": "99ac0d3a-60aa-467b-91df-5f7f09b46dc0",
   "metadata": {
    "slideshow": {
     "slide_type": "fragment"
    },
    "tags": [
     "raises-exception"
    ]
   },
   "outputs": [
    {
     "ename": "ValueError",
     "evalue": "3 is not in list",
     "output_type": "error",
     "traceback": [
      "\u001b[0;31m---------------------------------------------------------------------------\u001b[0m",
      "\u001b[0;31mValueError\u001b[0m                                Traceback (most recent call last)",
      "\u001b[0;32m/var/folders/2z/y8vhcz612_5bbs23g3cpndqm0000gn/T/ipykernel_54073/1632768634.py\u001b[0m in \u001b[0;36m<module>\u001b[0;34m\u001b[0m\n\u001b[0;32m----> 1\u001b[0;31m \u001b[0mfam\u001b[0m\u001b[0;34m.\u001b[0m\u001b[0mindex\u001b[0m\u001b[0;34m(\u001b[0m\u001b[0;36m3\u001b[0m\u001b[0;34m)\u001b[0m \u001b[0;31m# nothing valued 3\u001b[0m\u001b[0;34m\u001b[0m\u001b[0;34m\u001b[0m\u001b[0m\n\u001b[0m",
      "\u001b[0;31mValueError\u001b[0m: 3 is not in list"
     ]
    }
   ],
   "source": [
    "fam.index(3) # nothing valued 3"
   ]
  },
  {
   "cell_type": "code",
   "execution_count": 24,
   "id": "0f2b984b-d6f6-4857-b4f3-97c22fee1978",
   "metadata": {
    "slideshow": {
     "slide_type": "slide"
    },
    "tags": []
   },
   "outputs": [
    {
     "name": "stdout",
     "output_type": "stream",
     "text": [
      "0\n",
      "1\n"
     ]
    }
   ],
   "source": [
    "fam2 = [[\"liz\", 1.73],\n",
    "[\"emma\", 1.68],\n",
    "[\"mom\", 1.71],\n",
    "[\"dad\", 1.89]]\n",
    "print(fam2.count(\"emma\"))  # the string by itself does not exist\n",
    "print(fam2.count([\"emma\", 1.68]))"
   ]
  },
  {
   "cell_type": "markdown",
   "id": "68b52838-b4c3-4999-9cd2-d3ec6bdff565",
   "metadata": {
    "slideshow": {
     "slide_type": "slide"
    }
   },
   "source": [
    "## sort and reverse\n",
    "- `list.sort(key=None, reverse=False)`\n",
    "    - Sort the items of the list in place (the arguments can be used for sort customization, see sorted() for their explanation).\n",
    "\n",
    "- `list.reverse()`\n",
    "    - Reverse the elements of the list in place."
   ]
  },
  {
   "cell_type": "code",
   "execution_count": 25,
   "id": "e580c6c6-4459-43ad-a795-ce52ed7d2637",
   "metadata": {
    "slideshow": {
     "slide_type": "slide"
    },
    "tags": []
   },
   "outputs": [],
   "source": [
    "fam.reverse()  # no output to 'capture', the list is changed in place"
   ]
  },
  {
   "cell_type": "code",
   "execution_count": 26,
   "id": "e69e7b59-d7a5-4d0a-83c5-77b6af6f3810",
   "metadata": {
    "slideshow": {
     "slide_type": "fragment"
    },
    "tags": []
   },
   "outputs": [
    {
     "name": "stdout",
     "output_type": "stream",
     "text": [
      "[1.89, 'dad', 1.71, 'mom', 1.68, 'emma', 1.73, 'liz']\n"
     ]
    }
   ],
   "source": [
    "print(fam)"
   ]
  },
  {
   "cell_type": "code",
   "execution_count": 27,
   "id": "a4450ede-22e2-4bcd-aeff-114311efa691",
   "metadata": {
    "slideshow": {
     "slide_type": "slide"
    },
    "tags": [
     "raises-exception"
    ]
   },
   "outputs": [
    {
     "ename": "TypeError",
     "evalue": "'<' not supported between instances of 'str' and 'float'",
     "output_type": "error",
     "traceback": [
      "\u001b[0;31m---------------------------------------------------------------------------\u001b[0m",
      "\u001b[0;31mTypeError\u001b[0m                                 Traceback (most recent call last)",
      "\u001b[0;32m/var/folders/2z/y8vhcz612_5bbs23g3cpndqm0000gn/T/ipykernel_54073/565531861.py\u001b[0m in \u001b[0;36m<module>\u001b[0;34m\u001b[0m\n\u001b[0;32m----> 1\u001b[0;31m \u001b[0mfam\u001b[0m\u001b[0;34m.\u001b[0m\u001b[0msort\u001b[0m\u001b[0;34m(\u001b[0m\u001b[0;34m)\u001b[0m  \u001b[0;31m# can't sort floats and string\u001b[0m\u001b[0;34m\u001b[0m\u001b[0;34m\u001b[0m\u001b[0m\n\u001b[0m",
      "\u001b[0;31mTypeError\u001b[0m: '<' not supported between instances of 'str' and 'float'"
     ]
    }
   ],
   "source": [
    "fam.sort()  # can't sort floats and string"
   ]
  },
  {
   "cell_type": "code",
   "execution_count": 28,
   "id": "bc571160-5b5f-4783-8c5a-af2bc71d6741",
   "metadata": {
    "slideshow": {
     "slide_type": "slide"
    }
   },
   "outputs": [],
   "source": [
    "some_digits = [4, 2, 7, 9, 2, 5.1, 3]\n",
    "some_digits.sort()  # the list is sorted in place. no need to resave the output"
   ]
  },
  {
   "cell_type": "code",
   "execution_count": 29,
   "id": "be049efa-3a21-458f-a165-b9167eca1eb0",
   "metadata": {
    "slideshow": {
     "slide_type": "fragment"
    },
    "tags": []
   },
   "outputs": [
    {
     "name": "stdout",
     "output_type": "stream",
     "text": [
      "[2, 2, 3, 4, 5.1, 7, 9]\n"
     ]
    }
   ],
   "source": [
    "print(some_digits)  # preserves numeric data types"
   ]
  },
  {
   "cell_type": "code",
   "execution_count": 30,
   "id": "b21342e4-7148-466c-a983-a00405e3740d",
   "metadata": {
    "slideshow": {
     "slide_type": "fragment"
    },
    "tags": []
   },
   "outputs": [
    {
     "data": {
      "text/plain": [
       "float"
      ]
     },
     "execution_count": 30,
     "metadata": {},
     "output_type": "execute_result"
    }
   ],
   "source": [
    "type(some_digits[4])"
   ]
  },
  {
   "cell_type": "code",
   "execution_count": 31,
   "id": "1fd716f1-db28-48c0-99eb-4dc0b99ba784",
   "metadata": {
    "slideshow": {
     "slide_type": "slide"
    },
    "tags": []
   },
   "outputs": [
    {
     "name": "stdout",
     "output_type": "stream",
     "text": [
      "[9, 7, 5.1, 4, 3, 2, 2]\n"
     ]
    }
   ],
   "source": [
    "some_digits.sort(reverse = True)\n",
    "print(some_digits)"
   ]
  },
  {
   "cell_type": "code",
   "execution_count": 32,
   "id": "8969ad3d-d8ea-42cf-860c-30964ff6e9df",
   "metadata": {
    "slideshow": {
     "slide_type": "fragment"
    },
    "tags": []
   },
   "outputs": [
    {
     "data": {
      "text/plain": [
       "[2, 2, 3, 4, 5.1, 7, 9]"
      ]
     },
     "execution_count": 32,
     "metadata": {},
     "output_type": "execute_result"
    }
   ],
   "source": [
    "some_digits = [4, 2, 7, 9, 2, 5.1, 3] # create a new list\n",
    "sorted(some_digits)  # sorted will return a sorted copy of the list"
   ]
  },
  {
   "cell_type": "code",
   "execution_count": 33,
   "id": "f45da391-3dd3-4ca1-88e6-632709729534",
   "metadata": {
    "slideshow": {
     "slide_type": "fragment"
    },
    "tags": []
   },
   "outputs": [
    {
     "data": {
      "text/plain": [
       "[4, 2, 7, 9, 2, 5.1, 3]"
      ]
     },
     "execution_count": 33,
     "metadata": {},
     "output_type": "execute_result"
    }
   ],
   "source": [
    "some_digits  # the list is unaffected"
   ]
  },
  {
   "cell_type": "markdown",
   "id": "3525262a-50e8-4488-8f68-768a0a1a0585",
   "metadata": {
    "slideshow": {
     "slide_type": "slide"
    },
    "tags": []
   },
   "source": [
    "## Cleanup\n",
    "\n",
    "- clear will empty a list but it is still defined"
   ]
  },
  {
   "cell_type": "code",
   "execution_count": 34,
   "id": "91b8a1d4-6e87-4d05-80b0-00585d5790ee",
   "metadata": {},
   "outputs": [
    {
     "name": "stdout",
     "output_type": "stream",
     "text": [
      "[]\n"
     ]
    }
   ],
   "source": [
    "some_digits.clear()\n",
    "print(some_digits)"
   ]
  },
  {
   "cell_type": "code",
   "execution_count": 35,
   "id": "439ec61c-08b0-41b3-970d-fd1c1b729f2d",
   "metadata": {},
   "outputs": [
    {
     "name": "stdout",
     "output_type": "stream",
     "text": [
      "[6, 5, 9, 2]\n"
     ]
    }
   ],
   "source": [
    "some_digits = [6, 5, 9, 2]\n",
    "print(some_digits)"
   ]
  },
  {
   "cell_type": "markdown",
   "id": "b82d0bae-fdc3-4747-8105-45df7f2d2c2d",
   "metadata": {
    "slideshow": {
     "slide_type": "slide"
    },
    "tags": []
   },
   "source": [
    "## Cleanup (continued)\n",
    "\n",
    "- del will delete a list, no longer exists"
   ]
  },
  {
   "cell_type": "code",
   "execution_count": 36,
   "id": "03d52039-c201-4cd4-9805-eddce7ad5baa",
   "metadata": {},
   "outputs": [],
   "source": [
    "del some_digits"
   ]
  },
  {
   "cell_type": "code",
   "execution_count": 37,
   "id": "79bb332b-f23f-49e5-bacf-e62d7efe405b",
   "metadata": {},
   "outputs": [
    {
     "ename": "NameError",
     "evalue": "name 'some_digits' is not defined",
     "output_type": "error",
     "traceback": [
      "\u001b[0;31m---------------------------------------------------------------------------\u001b[0m",
      "\u001b[0;31mNameError\u001b[0m                                 Traceback (most recent call last)",
      "\u001b[0;32m/var/folders/2z/y8vhcz612_5bbs23g3cpndqm0000gn/T/ipykernel_54073/4265411950.py\u001b[0m in \u001b[0;36m<module>\u001b[0;34m\u001b[0m\n\u001b[0;32m----> 1\u001b[0;31m \u001b[0mprint\u001b[0m\u001b[0;34m(\u001b[0m\u001b[0msome_digits\u001b[0m\u001b[0;34m)\u001b[0m\u001b[0;34m\u001b[0m\u001b[0;34m\u001b[0m\u001b[0m\n\u001b[0m",
      "\u001b[0;31mNameError\u001b[0m: name 'some_digits' is not defined"
     ]
    }
   ],
   "source": [
    "print(some_digits)"
   ]
  },
  {
   "cell_type": "markdown",
   "id": "8c6a6fc0-5fc4-494c-9d08-693907c46385",
   "metadata": {
    "jp-MarkdownHeadingCollapsed": true,
    "slideshow": {
     "slide_type": "slide"
    },
    "tags": []
   },
   "source": [
    "## Extra - Reading a CSV using the standard library"
   ]
  },
  {
   "cell_type": "code",
   "execution_count": 38,
   "id": "5cc8f3e4-4dd0-491e-bfe7-84c5adb39a94",
   "metadata": {},
   "outputs": [],
   "source": [
    "# import the csv module\n",
    "import csv\n",
    "\n",
    "# csv file name\n",
    "filename = \"iris.csv\"\n",
    "\n",
    "# create columns and rows list\n",
    "columns = []\n",
    "rows = []\n",
    "\n",
    "# read csv file\n",
    "with open(filename, 'r') as csvfile:\n",
    "    # create a csv reader object\n",
    "    iris = csv.reader(csvfile)\n",
    "    \n",
    "    # extract column names in the first row\n",
    "    columns = next(iris)\n",
    "    \n",
    "    # extract each row \n",
    "    for row in iris:\n",
    "        rows.append(row)\n",
    "\n"
   ]
  },
  {
   "cell_type": "markdown",
   "id": "37708b4b-2654-49bd-9082-a4422a24ecb3",
   "metadata": {
    "slideshow": {
     "slide_type": "slide"
    },
    "tags": []
   },
   "source": [
    "## The reveal"
   ]
  },
  {
   "cell_type": "code",
   "execution_count": 39,
   "id": "9ba7aa53-f49b-4fc4-bfeb-7c8de0d417e7",
   "metadata": {},
   "outputs": [
    {
     "name": "stdout",
     "output_type": "stream",
     "text": [
      "Number of rows: 150\n",
      "\n",
      "Columns are: ['sepal length (cm)', 'sepal width (cm)', 'petal length (cm)', 'petal width (cm)', 'target']\n",
      "\n"
     ]
    }
   ],
   "source": [
    "# reveal number of rows\n",
    "nrows = len(rows)\n",
    "    \n",
    "print(f\"Number of rows: {nrows}\\n\")\n",
    "\n",
    "# columns\n",
    "print(f'Columns are: {columns}\\n')"
   ]
  },
  {
   "cell_type": "code",
   "execution_count": 40,
   "id": "d4144f3e-3cd2-41ff-9a8d-e3ee7a196595",
   "metadata": {
    "slideshow": {
     "slide_type": "slide"
    },
    "tags": []
   },
   "outputs": [
    {
     "name": "stdout",
     "output_type": "stream",
     "text": [
      "First few rows are:\n",
      "\n"
     ]
    },
    {
     "data": {
      "text/plain": [
       "[['5.1', '3.5', '1.4', '0.2', '0.0'],\n",
       " ['4.9', '3.0', '1.4', '0.2', '0.0'],\n",
       " ['4.7', '3.2', '1.3', '0.2', '0.0'],\n",
       " ['4.6', '3.1', '1.5', '0.2', '0.0'],\n",
       " ['5.0', '3.6', '1.4', '0.2', '0.0']]"
      ]
     },
     "execution_count": 40,
     "metadata": {},
     "output_type": "execute_result"
    }
   ],
   "source": [
    "# print some rows\n",
    "print('First few rows are:\\n')\n",
    "rows[0:5]"
   ]
  },
  {
   "cell_type": "code",
   "execution_count": 41,
   "id": "fb7a2a57-f2cd-42d6-96b6-a74df3c8b825",
   "metadata": {
    "slideshow": {
     "slide_type": "slide"
    },
    "tags": []
   },
   "outputs": [
    {
     "data": {
      "text/plain": [
       "[['5.1', '3.5', '1.4', '0.2', '0.0'],\n",
       " ['4.9', '3.0', '1.4', '0.2', '0.0'],\n",
       " ['4.7', '3.2', '1.3', '0.2', '0.0'],\n",
       " ['4.6', '3.1', '1.5', '0.2', '0.0'],\n",
       " ['5.0', '3.6', '1.4', '0.2', '0.0']]"
      ]
     },
     "execution_count": 41,
     "metadata": {},
     "output_type": "execute_result"
    }
   ],
   "source": [
    "rows[0:5]"
   ]
  },
  {
   "cell_type": "code",
   "execution_count": 42,
   "id": "a0ec6f76-47f6-4124-8700-db008f4e2b98",
   "metadata": {},
   "outputs": [
    {
     "data": {
      "text/plain": [
       "'5.1'"
      ]
     },
     "execution_count": 42,
     "metadata": {},
     "output_type": "execute_result"
    }
   ],
   "source": [
    "rows[0][0]"
   ]
  },
  {
   "cell_type": "code",
   "execution_count": 43,
   "id": "790071af-56bf-42a4-a8c9-3077e28e78d4",
   "metadata": {
    "slideshow": {
     "slide_type": "slide"
    },
    "tags": []
   },
   "outputs": [],
   "source": [
    "sl = [float(sl[0]) for sl in rows]"
   ]
  },
  {
   "cell_type": "code",
   "execution_count": 44,
   "id": "aae047b7-fd9f-40ab-bd5a-e4fdd1ef375d",
   "metadata": {},
   "outputs": [
    {
     "data": {
      "text/plain": [
       "5.843333333333334"
      ]
     },
     "execution_count": 44,
     "metadata": {},
     "output_type": "execute_result"
    }
   ],
   "source": [
    "import numpy as np\n",
    "np.mean(sl)"
   ]
  },
  {
   "cell_type": "code",
   "execution_count": 45,
   "id": "5681ad2b-44ab-4ee3-92ba-ae7a2ca336bb",
   "metadata": {},
   "outputs": [
    {
     "data": {
      "text/plain": [
       "5.843333333333335"
      ]
     },
     "execution_count": 45,
     "metadata": {},
     "output_type": "execute_result"
    }
   ],
   "source": [
    "sum(sl)/len(sl)"
   ]
  },
  {
   "cell_type": "markdown",
   "id": "3773530f-d07e-4bc2-8d7f-37a2204abb8c",
   "metadata": {
    "slideshow": {
     "slide_type": "slide"
    },
    "tags": []
   },
   "source": [
    "## Common Sequence Operations\n",
    "\n",
    "It might help to have this available https://docs.python.org/3/library/stdtypes.html#typesseq-common\n",
    "\n",
    "<img src =\"sequence_operations.png\" width=\"800\" height=\"800\" />"
   ]
  },
  {
   "cell_type": "markdown",
   "id": "e0f73702-5783-4b57-80a6-54c6adfd9c37",
   "metadata": {
    "slideshow": {
     "slide_type": "slide"
    }
   },
   "source": [
    "## Strings\n",
    "\n",
    "From the documentation:\n",
    "\n",
    "\n",
    "- Textual data in Python is handled with str objects, or strings. Strings are immutable sequences of Unicode code points. String literals are written in a variety of ways:\n",
    "    * Single quotes: 'allows embedded \"double\" quotes'\n",
    "    * Double quotes: \"allows embedded 'single' quotes\"\n",
    "    * Triple quoted: '''Three single quotes''', \"\"\"Three double quotes\"\"\"\n",
    "\n",
    "Triple quoted strings may span multiple lines - all associated whitespace will be included in the string literal."
   ]
  },
  {
   "cell_type": "markdown",
   "id": "5bf2c156-0397-42a6-9aaa-62ec9af5e82c",
   "metadata": {
    "slideshow": {
     "slide_type": "slide"
    }
   },
   "source": [
    "## Examples"
   ]
  },
  {
   "cell_type": "code",
   "execution_count": 46,
   "id": "dedfd3f7-735b-48f9-a790-1d3bb1d0eabe",
   "metadata": {
    "slideshow": {
     "slide_type": "fragment"
    }
   },
   "outputs": [],
   "source": [
    "fruit = \"bananas\""
   ]
  },
  {
   "cell_type": "code",
   "execution_count": 47,
   "id": "29df6b4d-3fd5-4724-9017-95fe71c845a4",
   "metadata": {
    "slideshow": {
     "slide_type": "fragment"
    }
   },
   "outputs": [
    {
     "data": {
      "text/plain": [
       "'b'"
      ]
     },
     "execution_count": 47,
     "metadata": {},
     "output_type": "execute_result"
    }
   ],
   "source": [
    "fruit[0]  # Python is 0-indexed"
   ]
  },
  {
   "cell_type": "code",
   "execution_count": 48,
   "id": "19afe951-1990-4c77-a8fc-ef9c17690618",
   "metadata": {
    "slideshow": {
     "slide_type": "fragment"
    }
   },
   "outputs": [
    {
     "data": {
      "text/plain": [
       "'a'"
      ]
     },
     "execution_count": 48,
     "metadata": {},
     "output_type": "execute_result"
    }
   ],
   "source": [
    "fruit[1]"
   ]
  },
  {
   "cell_type": "code",
   "execution_count": 49,
   "id": "f768401b-1b0c-4789-8339-661e2617d5aa",
   "metadata": {
    "slideshow": {
     "slide_type": "slide"
    },
    "tags": []
   },
   "outputs": [
    {
     "data": {
      "text/plain": [
       "'s'"
      ]
     },
     "execution_count": 49,
     "metadata": {},
     "output_type": "execute_result"
    }
   ],
   "source": [
    "fruit[-1] # last letter"
   ]
  },
  {
   "cell_type": "code",
   "execution_count": 50,
   "id": "b5c17bb2-3b7e-4244-9b56-e6849946d638",
   "metadata": {
    "slideshow": {
     "slide_type": "fragment"
    },
    "tags": [
     "raises-exception"
    ]
   },
   "outputs": [
    {
     "ename": "TypeError",
     "evalue": "string indices must be integers",
     "output_type": "error",
     "traceback": [
      "\u001b[0;31m---------------------------------------------------------------------------\u001b[0m",
      "\u001b[0;31mTypeError\u001b[0m                                 Traceback (most recent call last)",
      "\u001b[0;32m/var/folders/2z/y8vhcz612_5bbs23g3cpndqm0000gn/T/ipykernel_54073/1901970537.py\u001b[0m in \u001b[0;36m<module>\u001b[0;34m\u001b[0m\n\u001b[0;32m----> 1\u001b[0;31m \u001b[0mfruit\u001b[0m\u001b[0;34m[\u001b[0m\u001b[0;36m1.5\u001b[0m\u001b[0;34m]\u001b[0m\u001b[0;34m\u001b[0m\u001b[0;34m\u001b[0m\u001b[0m\n\u001b[0m",
      "\u001b[0;31mTypeError\u001b[0m: string indices must be integers"
     ]
    }
   ],
   "source": [
    "fruit[1.5]"
   ]
  },
  {
   "cell_type": "markdown",
   "id": "ca14ef7e-faea-4c7c-828c-ba5b3daf5cb6",
   "metadata": {
    "slideshow": {
     "slide_type": "slide"
    }
   },
   "source": [
    "## `len()` tells you the length of a string"
   ]
  },
  {
   "cell_type": "code",
   "execution_count": 51,
   "id": "505cac47-56a7-4fba-8dd8-0b97d2806aad",
   "metadata": {},
   "outputs": [
    {
     "data": {
      "text/plain": [
       "7"
      ]
     },
     "execution_count": 51,
     "metadata": {},
     "output_type": "execute_result"
    }
   ],
   "source": [
    "len(fruit) # that is \"bananas\""
   ]
  },
  {
   "cell_type": "markdown",
   "id": "0d9bef8d-122f-4d68-8961-c2ede050c518",
   "metadata": {
    "slideshow": {
     "slide_type": "slide"
    }
   },
   "source": [
    "## Subsetting Strings and strings as iterables\n",
    "\n",
    "You can subset and slice a string much like you would a list or tuple:"
   ]
  },
  {
   "cell_type": "code",
   "execution_count": 52,
   "id": "b163bdef-250b-464a-87c3-4d987f3086bd",
   "metadata": {
    "slideshow": {
     "slide_type": "fragment"
    }
   },
   "outputs": [],
   "source": [
    "s = 'abcdefghijklmnopqrstuvwxyz'"
   ]
  },
  {
   "cell_type": "code",
   "execution_count": 53,
   "id": "fd91470f-9748-47a1-b14c-800c53ec101e",
   "metadata": {
    "slideshow": {
     "slide_type": "fragment"
    }
   },
   "outputs": [
    {
     "data": {
      "text/plain": [
       "'efghi'"
      ]
     },
     "execution_count": 53,
     "metadata": {},
     "output_type": "execute_result"
    }
   ],
   "source": [
    "s[4:9]"
   ]
  },
  {
   "cell_type": "markdown",
   "id": "1eeacf67-d52a-44f3-8d9d-a2355e24ea61",
   "metadata": {
    "slideshow": {
     "slide_type": "slide"
    },
    "tags": []
   },
   "source": [
    "## Subsetting Strings and strings as iterables"
   ]
  },
  {
   "cell_type": "code",
   "execution_count": 54,
   "id": "27a0425d-d6c0-477e-92be-1688834f7895",
   "metadata": {
    "slideshow": {
     "slide_type": "fragment"
    }
   },
   "outputs": [
    {
     "data": {
      "text/plain": [
       "'uvwxyz'"
      ]
     },
     "execution_count": 54,
     "metadata": {},
     "output_type": "execute_result"
    }
   ],
   "source": [
    "s[-6:]"
   ]
  },
  {
   "cell_type": "code",
   "execution_count": 55,
   "id": "25ad424b-4bbd-47dd-943c-6472808f164b",
   "metadata": {
    "slideshow": {
     "slide_type": "fragment"
    }
   },
   "outputs": [
    {
     "name": "stdout",
     "output_type": "stream",
     "text": [
      "a!\n",
      "b!\n",
      "c!\n",
      "d!\n",
      "e!\n"
     ]
    }
   ],
   "source": [
    "for x in s[0:5]:\n",
    "    print(x + '!')"
   ]
  },
  {
   "cell_type": "markdown",
   "id": "fdea59a0-3389-4b86-b0e2-ce950b5f07ae",
   "metadata": {
    "slideshow": {
     "slide_type": "slide"
    }
   },
   "source": [
    "## Strings are immutable\n",
    "\n",
    "This means that when you use a method on a string, it does not modify the string itself and returns a new string object."
   ]
  },
  {
   "cell_type": "code",
   "execution_count": 56,
   "id": "483198a1-61b7-4fd3-86a7-b7ad9a701a7b",
   "metadata": {
    "slideshow": {
     "slide_type": "fragment"
    },
    "tags": [
     "raises-exception"
    ]
   },
   "outputs": [
    {
     "ename": "TypeError",
     "evalue": "'str' object does not support item assignment",
     "output_type": "error",
     "traceback": [
      "\u001b[0;31m---------------------------------------------------------------------------\u001b[0m",
      "\u001b[0;31mTypeError\u001b[0m                                 Traceback (most recent call last)",
      "\u001b[0;32m/var/folders/2z/y8vhcz612_5bbs23g3cpndqm0000gn/T/ipykernel_54073/543338217.py\u001b[0m in \u001b[0;36m<module>\u001b[0;34m\u001b[0m\n\u001b[1;32m      1\u001b[0m \u001b[0;31m# strings are immutable. You cannot modify a string that has been created.\u001b[0m\u001b[0;34m\u001b[0m\u001b[0;34m\u001b[0m\u001b[0m\n\u001b[0;32m----> 2\u001b[0;31m \u001b[0ms\u001b[0m\u001b[0;34m[\u001b[0m\u001b[0;36m0\u001b[0m\u001b[0;34m]\u001b[0m \u001b[0;34m=\u001b[0m \u001b[0;34m'b'\u001b[0m\u001b[0;34m\u001b[0m\u001b[0;34m\u001b[0m\u001b[0m\n\u001b[0m",
      "\u001b[0;31mTypeError\u001b[0m: 'str' object does not support item assignment"
     ]
    }
   ],
   "source": [
    "# strings are immutable. You cannot modify a string that has been created.\n",
    "s[0] = 'b'"
   ]
  },
  {
   "cell_type": "markdown",
   "id": "3945682c-2766-427c-a6a1-fc232654cfbd",
   "metadata": {
    "slideshow": {
     "slide_type": "slide"
    },
    "tags": []
   },
   "source": [
    "## Strings are immutable (cont'd)"
   ]
  },
  {
   "cell_type": "code",
   "execution_count": 57,
   "id": "85913400-a62f-4eae-bb84-10adb96adb9a",
   "metadata": {
    "slideshow": {
     "slide_type": "fragment"
    }
   },
   "outputs": [
    {
     "data": {
      "text/plain": [
       "'bbcdefghijklmnopqrstuvwxyz'"
      ]
     },
     "execution_count": 57,
     "metadata": {},
     "output_type": "execute_result"
    }
   ],
   "source": [
    "'b' + s[1:] # if i wanted the string where the first letter is now b"
   ]
  },
  {
   "cell_type": "markdown",
   "id": "2627271d-3b92-4001-bfc7-2dd45fffd18f",
   "metadata": {
    "slideshow": {
     "slide_type": "slide"
    }
   },
   "source": [
    "## String Methods\n",
    "\n",
    "- Strings can make use of all of the common sequence operations (listed above)\n",
    "- Strings also have many builtin methods\n",
    "\n",
    "https://docs.python.org/3/library/stdtypes.html#string-methods-1"
   ]
  },
  {
   "cell_type": "markdown",
   "id": "3b53b89b-42be-4c19-a95c-4aff3ee4c12d",
   "metadata": {
    "slideshow": {
     "slide_type": "slide"
    }
   },
   "source": [
    "## String Methods - examples"
   ]
  },
  {
   "cell_type": "code",
   "execution_count": 58,
   "id": "3b7400d0-da63-4282-ac99-19612272f15e",
   "metadata": {
    "slideshow": {
     "slide_type": "fragment"
    },
    "tags": []
   },
   "outputs": [
    {
     "name": "stdout",
     "output_type": "stream",
     "text": [
      "STATS 21 PYTHON AND OTHER TECHNOLOGIES FOR DATA SCIENCE\n",
      "Stats 21 python and other technologies for data science\n",
      "Stats 21 Python And Other Technologies For Data Science\n",
      "stats 21 python and other technologies for data science\n",
      "STATS 21 python and other technologies for data science\n"
     ]
    }
   ],
   "source": [
    "name = \"STATS 21 python and other technologies for data science\"\n",
    "print(name.upper())\n",
    "print(name.capitalize()) # first character is capitalized\n",
    "print(name.title())     # first character of each word is capitalized\n",
    "print(name.lower())\n",
    "print(name) # string itself is not modified"
   ]
  },
  {
   "cell_type": "markdown",
   "id": "9d0ee9bc-cf85-49bb-8df1-053af0c80315",
   "metadata": {},
   "source": [
    "## String Methods\n",
    "\n",
    "They might be handy for a homework"
   ]
  },
  {
   "cell_type": "code",
   "execution_count": 59,
   "id": "45334a96-1cdd-4b6e-aa8c-2391fb484510",
   "metadata": {},
   "outputs": [
    {
     "name": "stdout",
     "output_type": "stream",
     "text": [
      "False\n",
      "True\n",
      "False\n",
      "['STATS', '21', 'python', 'and', 'other', 'technologies', 'for', 'data', 'science']\n",
      "STATS\n"
     ]
    }
   ],
   "source": [
    "print(name.startswith(\"s\"))\n",
    "print(name.endswith(\"e\"))\n",
    "print(name.isalpha())\n",
    "print(name.split(sep=\" \"))\n",
    "name_split = name.split(sep=\" \")\n",
    "print(name_split[0])\n"
   ]
  },
  {
   "cell_type": "markdown",
   "id": "df87adbe-120c-455a-9764-2d1c76540dc5",
   "metadata": {
    "slideshow": {
     "slide_type": "slide"
    }
   },
   "source": [
    "## Count how many times a letter appears"
   ]
  },
  {
   "cell_type": "code",
   "execution_count": 60,
   "id": "d64a5f5d-53a8-48fd-9403-c85fa6c1eb82",
   "metadata": {
    "slideshow": {
     "slide_type": "fragment"
    }
   },
   "outputs": [
    {
     "name": "stdout",
     "output_type": "stream",
     "text": [
      "5\n"
     ]
    }
   ],
   "source": [
    "count = 0\n",
    "for letter in name:\n",
    "    if letter == \"e\":\n",
    "        count = count + 1\n",
    "print(count)    "
   ]
  },
  {
   "cell_type": "code",
   "execution_count": 61,
   "id": "b5904086-7331-4e5d-bdd2-6078875808c0",
   "metadata": {
    "slideshow": {
     "slide_type": "fragment"
    }
   },
   "outputs": [
    {
     "data": {
      "text/plain": [
       "5"
      ]
     },
     "execution_count": 61,
     "metadata": {},
     "output_type": "execute_result"
    }
   ],
   "source": [
    "# can be achieved with a simple method:\n",
    "name.count(\"e\")"
   ]
  },
  {
   "cell_type": "code",
   "execution_count": 62,
   "id": "946a89d1-38a0-4da7-9bd3-1307ae0fe7e7",
   "metadata": {
    "slideshow": {
     "slide_type": "slide"
    }
   },
   "outputs": [
    {
     "data": {
      "text/plain": [
       "2"
      ]
     },
     "execution_count": 62,
     "metadata": {},
     "output_type": "execute_result"
    }
   ],
   "source": [
    "name.index('A') # index of the first instance"
   ]
  },
  {
   "cell_type": "code",
   "execution_count": 63,
   "id": "0b155ba9-7355-4bd9-aed9-c7ed2f98b276",
   "metadata": {
    "slideshow": {
     "slide_type": "fragment"
    }
   },
   "outputs": [
    {
     "data": {
      "text/plain": [
       "False"
      ]
     },
     "execution_count": 63,
     "metadata": {},
     "output_type": "execute_result"
    }
   ],
   "source": [
    "name.endswith(\"k\")"
   ]
  },
  {
   "cell_type": "code",
   "execution_count": 64,
   "id": "89a10059-a170-4484-b4b2-456e26f1881d",
   "metadata": {
    "slideshow": {
     "slide_type": "fragment"
    }
   },
   "outputs": [
    {
     "data": {
      "text/plain": [
       "True"
      ]
     },
     "execution_count": 64,
     "metadata": {},
     "output_type": "execute_result"
    }
   ],
   "source": [
    "name.endswith(\"e\")"
   ]
  },
  {
   "cell_type": "code",
   "execution_count": 65,
   "id": "23461468-2ebb-41e4-95af-566cf7fb665c",
   "metadata": {
    "slideshow": {
     "slide_type": "slide"
    },
    "tags": []
   },
   "outputs": [
    {
     "data": {
      "text/plain": [
       "False"
      ]
     },
     "execution_count": 65,
     "metadata": {},
     "output_type": "execute_result"
    }
   ],
   "source": [
    "name.startswith(\"s\")  # case sensitive"
   ]
  },
  {
   "cell_type": "code",
   "execution_count": 66,
   "id": "cca01ad2-61b6-44e8-981b-bdcca2b14222",
   "metadata": {
    "slideshow": {
     "slide_type": "fragment"
    },
    "tags": []
   },
   "outputs": [
    {
     "name": "stdout",
     "output_type": "stream",
     "text": [
      "   los angeles \n",
      "\n",
      "\n",
      "\n"
     ]
    }
   ],
   "source": [
    "# create multi-line strings with triple quotes\n",
    "name2 = '''   los angeles \n",
    "\n",
    "\n",
    "'''\n",
    "print(name2)"
   ]
  },
  {
   "cell_type": "code",
   "execution_count": 67,
   "id": "dc203ca6-1a0d-4b09-9648-9d7845766000",
   "metadata": {
    "slideshow": {
     "slide_type": "slide"
    },
    "tags": []
   },
   "outputs": [
    {
     "data": {
      "text/plain": [
       "'los angeles'"
      ]
     },
     "execution_count": 67,
     "metadata": {},
     "output_type": "execute_result"
    }
   ],
   "source": [
    "name2.strip()  # removes extra whitespace"
   ]
  },
  {
   "cell_type": "code",
   "execution_count": 68,
   "id": "1723d03e-7613-4afe-80a5-455377d6ada6",
   "metadata": {
    "slideshow": {
     "slide_type": "fragment"
    }
   },
   "outputs": [
    {
     "data": {
      "text/plain": [
       "'   los angeles \\n\\n\\n'"
      ]
     },
     "execution_count": 68,
     "metadata": {},
     "output_type": "execute_result"
    }
   ],
   "source": [
    "name2 # remember strings are immutable, the original string still has the white space"
   ]
  },
  {
   "cell_type": "markdown",
   "id": "b6a570a9-1adf-4430-9f77-e0ae3f95f7c2",
   "metadata": {
    "slideshow": {
     "slide_type": "slide"
    }
   },
   "source": [
    "###  string.split() "
   ]
  },
  {
   "cell_type": "code",
   "execution_count": 69,
   "id": "4508a2b2-440e-42aa-a67a-da33053405c0",
   "metadata": {
    "slideshow": {
     "slide_type": "fragment"
    }
   },
   "outputs": [
    {
     "data": {
      "text/plain": [
       "['los', 'angeles']"
      ]
     },
     "execution_count": 69,
     "metadata": {},
     "output_type": "execute_result"
    }
   ],
   "source": [
    "name2.split() # the result of split() is a list"
   ]
  },
  {
   "cell_type": "code",
   "execution_count": 70,
   "id": "1c2222b1-86be-4e04-b441-edbd28f65eaa",
   "metadata": {
    "slideshow": {
     "slide_type": "fragment"
    }
   },
   "outputs": [
    {
     "name": "stdout",
     "output_type": "stream",
     "text": [
      "['2,3,4,7,8']\n",
      "['2', '3', '4', '7', '8']\n"
     ]
    }
   ],
   "source": [
    "num_string = \"2,3,4,7,8\"\n",
    "print(num_string.split()) # defaults to splitting on space\n",
    "print(num_string.split(','))"
   ]
  },
  {
   "cell_type": "code",
   "execution_count": 71,
   "id": "00328f77-5319-4dad-a4b2-7e611ee4ee57",
   "metadata": {
    "slideshow": {
     "slide_type": "slide"
    },
    "tags": []
   },
   "outputs": [
    {
     "data": {
      "text/plain": [
       "[2, 3, 4, 7, 8]"
      ]
     },
     "execution_count": 71,
     "metadata": {},
     "output_type": "execute_result"
    }
   ],
   "source": [
    "# list comprehension (covered later) to convert the split strings into int\n",
    "[int(x) for x in num_string.split(',')]"
   ]
  },
  {
   "cell_type": "code",
   "execution_count": 72,
   "id": "227f958f-f306-4040-a008-80eb4dd3180b",
   "metadata": {
    "slideshow": {
     "slide_type": "fragment"
    }
   },
   "outputs": [
    {
     "data": {
      "text/plain": [
       "[2, 3, 4, 7, 8]"
      ]
     },
     "execution_count": 72,
     "metadata": {},
     "output_type": "execute_result"
    }
   ],
   "source": [
    "# the list comprehension is a more concise version of the following code\n",
    "l = []\n",
    "for x in num_string.split(','):\n",
    "    l.append(int(x))\n",
    "l"
   ]
  },
  {
   "cell_type": "code",
   "execution_count": 73,
   "id": "812af81b-ddc9-410f-94e7-809165e7f521",
   "metadata": {
    "slideshow": {
     "slide_type": "slide"
    }
   },
   "outputs": [
    {
     "name": "stdout",
     "output_type": "stream",
     "text": [
      "STATS 21 python and other technologies for data science\n",
      "False\n"
     ]
    },
    {
     "data": {
      "text/plain": [
       "True"
      ]
     },
     "execution_count": 73,
     "metadata": {},
     "output_type": "execute_result"
    }
   ],
   "source": [
    "print(name)\n",
    "print(name.isalpha()) # has spaces and digits, so it is not strictly alpha\n",
    "name3 = \"abbaAZ\"\n",
    "name3.isalpha()"
   ]
  },
  {
   "cell_type": "code",
   "execution_count": 74,
   "id": "b7896ca1-238f-456d-99cd-aa3ade154a77",
   "metadata": {
    "slideshow": {
     "slide_type": "fragment"
    }
   },
   "outputs": [
    {
     "data": {
      "text/plain": [
       "False"
      ]
     },
     "execution_count": 74,
     "metadata": {},
     "output_type": "execute_result"
    }
   ],
   "source": [
    "name4 = \"abbaAZ4\"\n",
    "name4.isalpha()"
   ]
  },
  {
   "cell_type": "code",
   "execution_count": 75,
   "id": "8e7860a2-9828-4064-bab4-38974b1243d9",
   "metadata": {
    "slideshow": {
     "slide_type": "slide"
    }
   },
   "outputs": [
    {
     "name": "stdout",
     "output_type": "stream",
     "text": [
      "LYRICS TO THE SONG HURT\n",
      "I HURT MYSELF TODAY\n",
      "TO SEE IF I STILL FEEL\n",
      "I FOCUS ON THE PAIN\n",
      "THE ONLY THING THAT'S REAL\n",
      "THE NEEDLE TEARS A HOLE\n",
      "THE OLD FAMILIAR STING\n",
      "TRY TO KILL IT ALL AWAY\n",
      "BUT I REMEMBER EVERYTHING\n",
      "['Lyrics', 'to', 'the', 'song', 'Hurt', 'I', 'hurt', 'myself', 'today', 'To', 'see', 'if', 'I', 'still', 'feel', 'I', 'focus', 'on', 'the', 'pain', 'The', 'only', 'thing', \"that's\", 'real', 'The', 'needle', 'tears', 'a', 'hole', 'The', 'old', 'familiar', 'sting', 'Try', 'to', 'kill', 'it', 'all', 'away', 'But', 'I', 'remember', 'everything']\n"
     ]
    }
   ],
   "source": [
    "# strings can span multiple lines with triple quotes \n",
    "long_string = \"\"\"Lyrics to the song Hurt\n",
    "I hurt myself today\n",
    "To see if I still feel\n",
    "I focus on the pain\n",
    "The only thing that's real\n",
    "The needle tears a hole\n",
    "The old familiar sting\n",
    "Try to kill it all away\n",
    "But I remember everything\"\"\"\n",
    "shout = long_string.upper()\n",
    "print(shout)\n",
    "word_list = long_string.split() # separates at spaces\n",
    "print(word_list)"
   ]
  },
  {
   "cell_type": "code",
   "execution_count": 76,
   "id": "c8c1cbdc-ad68-47f2-a5d3-8080f72d6456",
   "metadata": {
    "slideshow": {
     "slide_type": "slide"
    }
   },
   "outputs": [
    {
     "data": {
      "text/plain": [
       "['Lyrics to the song Hurt',\n",
       " 'I hurt myself today',\n",
       " 'To see if I still feel',\n",
       " 'I focus on the pain',\n",
       " \"The only thing that's real\",\n",
       " 'The needle tears a hole',\n",
       " 'The old familiar sting',\n",
       " 'Try to kill it all away',\n",
       " 'But I remember everything']"
      ]
     },
     "execution_count": 76,
     "metadata": {},
     "output_type": "execute_result"
    }
   ],
   "source": [
    "long_string.splitlines() # separates at line ends\n",
    "# you'll notice that python defaults to using single quotes, but if the string contains an apostrophe,\n",
    "# it will use double quotes"
   ]
  },
  {
   "cell_type": "code",
   "execution_count": 77,
   "id": "aaa07857-dbaf-42a9-b021-118c2b714846",
   "metadata": {
    "slideshow": {
     "slide_type": "fragment"
    },
    "tags": []
   },
   "outputs": [
    {
     "data": {
      "text/plain": [
       "21"
      ]
     },
     "execution_count": 77,
     "metadata": {},
     "output_type": "execute_result"
    }
   ],
   "source": [
    "long_string.count(\"e\")"
   ]
  },
  {
   "cell_type": "markdown",
   "id": "e8061d29-79c7-4c7e-a6a0-2fb34928d001",
   "metadata": {
    "slideshow": {
     "slide_type": "slide"
    }
   },
   "source": [
    "## Searching for a letter\n",
    "\n",
    "~~~\n",
    "long_string = \"\"\"Lyrics to the song Hurt\n",
    "I hurt myself today\n",
    "To see if I still feel\n",
    "I focus on the pain\n",
    "The only thing that's real\n",
    "The needle tears a hole\n",
    "The old familiar sting\n",
    "Try to kill it all away\n",
    "But I remember everything\"\"\"\n",
    "~~~"
   ]
  },
  {
   "cell_type": "code",
   "execution_count": 78,
   "id": "fe4e36cc-4511-4d6c-ba82-78911b58b12f",
   "metadata": {
    "slideshow": {
     "slide_type": "fragment"
    }
   },
   "outputs": [],
   "source": [
    "def myfind(string, letter):\n",
    "    index = 0\n",
    "    while index < len(string):\n",
    "        if string[index] == letter:\n",
    "            return index\n",
    "        index = index + 1\n",
    "    return -1"
   ]
  },
  {
   "cell_type": "code",
   "execution_count": 79,
   "id": "fdcd447c-c674-4828-8cf1-2785437ab184",
   "metadata": {
    "slideshow": {
     "slide_type": "fragment"
    }
   },
   "outputs": [
    {
     "data": {
      "text/plain": [
       "7"
      ]
     },
     "execution_count": 79,
     "metadata": {},
     "output_type": "execute_result"
    }
   ],
   "source": [
    "myfind(long_string, \"t\")"
   ]
  },
  {
   "cell_type": "code",
   "execution_count": 80,
   "id": "319b0fd7-91c6-4744-8373-e9ca1b60dece",
   "metadata": {
    "slideshow": {
     "slide_type": "slide"
    }
   },
   "outputs": [
    {
     "data": {
      "text/plain": [
       "7"
      ]
     },
     "execution_count": 80,
     "metadata": {},
     "output_type": "execute_result"
    }
   ],
   "source": [
    "# Python already has a find method built in\n",
    "long_string.find(\"t\") # index of the first instance of 't'"
   ]
  },
  {
   "cell_type": "code",
   "execution_count": 81,
   "id": "47e0ffc3-657e-463b-b5c9-28f76a414a62",
   "metadata": {
    "slideshow": {
     "slide_type": "fragment"
    }
   },
   "outputs": [
    {
     "data": {
      "text/plain": [
       "7"
      ]
     },
     "execution_count": 81,
     "metadata": {},
     "output_type": "execute_result"
    }
   ],
   "source": [
    "long_string.index('t') # string.index() and string.find() are similar."
   ]
  },
  {
   "cell_type": "code",
   "execution_count": 82,
   "id": "42f41d64-5ff2-40a3-8e48-5a72f775b625",
   "metadata": {
    "slideshow": {
     "slide_type": "slide"
    },
    "tags": []
   },
   "outputs": [
    {
     "data": {
      "text/plain": [
       "-1"
      ]
     },
     "execution_count": 82,
     "metadata": {},
     "output_type": "execute_result"
    }
   ],
   "source": [
    "long_string.find('$') # string.find() returns a -1 if the character doesn't exist in the string"
   ]
  },
  {
   "cell_type": "code",
   "execution_count": 83,
   "id": "151c71bc-4af1-41f5-97b0-684e9f2ecaf4",
   "metadata": {
    "slideshow": {
     "slide_type": "fragment"
    },
    "tags": [
     "raises-exception"
    ]
   },
   "outputs": [
    {
     "ename": "ValueError",
     "evalue": "substring not found",
     "output_type": "error",
     "traceback": [
      "\u001b[0;31m---------------------------------------------------------------------------\u001b[0m",
      "\u001b[0;31mValueError\u001b[0m                                Traceback (most recent call last)",
      "\u001b[0;32m/var/folders/2z/y8vhcz612_5bbs23g3cpndqm0000gn/T/ipykernel_54073/1812285253.py\u001b[0m in \u001b[0;36m<module>\u001b[0;34m\u001b[0m\n\u001b[0;32m----> 1\u001b[0;31m \u001b[0mlong_string\u001b[0m\u001b[0;34m.\u001b[0m\u001b[0mindex\u001b[0m\u001b[0;34m(\u001b[0m\u001b[0;34m'$'\u001b[0m\u001b[0;34m)\u001b[0m  \u001b[0;31m# string.index() returns error if the character doesn't exist in the string.\u001b[0m\u001b[0;34m\u001b[0m\u001b[0;34m\u001b[0m\u001b[0m\n\u001b[0m",
      "\u001b[0;31mValueError\u001b[0m: substring not found"
     ]
    }
   ],
   "source": [
    "long_string.index('$')  # string.index() returns error if the character doesn't exist in the string."
   ]
  },
  {
   "cell_type": "markdown",
   "id": "17c91340-d46e-4987-973b-f5b13ec32ee5",
   "metadata": {
    "slideshow": {
     "slide_type": "slide"
    }
   },
   "source": [
    "## `in` operator\n",
    "\n",
    "returns a boolean value if the first string is a substring of the second string."
   ]
  },
  {
   "cell_type": "code",
   "execution_count": 84,
   "id": "dbb5eba2-44b6-4b93-bc36-75633d16f4f6",
   "metadata": {
    "slideshow": {
     "slide_type": "fragment"
    }
   },
   "outputs": [
    {
     "data": {
      "text/plain": [
       "True"
      ]
     },
     "execution_count": 84,
     "metadata": {},
     "output_type": "execute_result"
    }
   ],
   "source": [
    "'a' in 'bananas'"
   ]
  },
  {
   "cell_type": "code",
   "execution_count": 85,
   "id": "1278131c-9854-4bde-93c6-894db52c050d",
   "metadata": {
    "slideshow": {
     "slide_type": "fragment"
    }
   },
   "outputs": [
    {
     "data": {
      "text/plain": [
       "True"
      ]
     },
     "execution_count": 85,
     "metadata": {},
     "output_type": "execute_result"
    }
   ],
   "source": [
    "'nan' in 'bananas'"
   ]
  },
  {
   "cell_type": "code",
   "execution_count": 86,
   "id": "360b41d1-32c2-4450-aaf3-93c5a479b03b",
   "metadata": {
    "slideshow": {
     "slide_type": "slide"
    },
    "tags": []
   },
   "outputs": [
    {
     "data": {
      "text/plain": [
       "False"
      ]
     },
     "execution_count": 86,
     "metadata": {},
     "output_type": "execute_result"
    }
   ],
   "source": [
    "'bad' in 'bananas'"
   ]
  },
  {
   "cell_type": "markdown",
   "id": "ff4a41a5-d856-4246-abbd-cc4bc6348f09",
   "metadata": {
    "slideshow": {
     "slide_type": "slide"
    }
   },
   "source": [
    "# String comparisons\n",
    "\n",
    "Use of `>` or `<` compares strings in alphabetical order."
   ]
  },
  {
   "cell_type": "code",
   "execution_count": 87,
   "id": "4dca5446-5364-4f11-ad4c-f96bcb32eb47",
   "metadata": {
    "slideshow": {
     "slide_type": "slide"
    }
   },
   "outputs": [
    {
     "data": {
      "text/plain": [
       "True"
      ]
     },
     "execution_count": 87,
     "metadata": {},
     "output_type": "execute_result"
    }
   ],
   "source": [
    "'A' < 'B'"
   ]
  },
  {
   "cell_type": "code",
   "execution_count": 88,
   "id": "8aa00fc3-01ef-4f66-9477-c7efa69555cd",
   "metadata": {
    "slideshow": {
     "slide_type": "fragment"
    }
   },
   "outputs": [
    {
     "data": {
      "text/plain": [
       "True"
      ]
     },
     "execution_count": 88,
     "metadata": {},
     "output_type": "execute_result"
    }
   ],
   "source": [
    "'a' < 'b'"
   ]
  },
  {
   "cell_type": "code",
   "execution_count": 89,
   "id": "6b96d3de-e1c0-4b90-94a7-0baf14cab4d1",
   "metadata": {},
   "outputs": [
    {
     "data": {
      "text/plain": [
       "True"
      ]
     },
     "execution_count": 89,
     "metadata": {},
     "output_type": "execute_result"
    }
   ],
   "source": [
    "'Z' < 'a'"
   ]
  },
  {
   "cell_type": "code",
   "execution_count": 90,
   "id": "d0e10c13-9db8-43d9-ab3e-d8032aab11fe",
   "metadata": {
    "slideshow": {
     "slide_type": "slide"
    }
   },
   "outputs": [
    {
     "data": {
      "text/plain": [
       "True"
      ]
     },
     "execution_count": 90,
     "metadata": {},
     "output_type": "execute_result"
    }
   ],
   "source": [
    "# digits are less than capital letters\n",
    "'1' < 'A'"
   ]
  },
  {
   "cell_type": "code",
   "execution_count": 91,
   "id": "4f6bed3e-c3bf-49fa-9040-0975dbb50c6c",
   "metadata": {},
   "outputs": [
    {
     "data": {
      "text/plain": [
       "True"
      ]
     },
     "execution_count": 91,
     "metadata": {},
     "output_type": "execute_result"
    }
   ],
   "source": [
    "'0' < '00'"
   ]
  },
  {
   "cell_type": "code",
   "execution_count": 92,
   "id": "08fe794b-d4de-4989-8e08-162984ca2ead",
   "metadata": {},
   "outputs": [
    {
     "data": {
      "text/plain": [
       "False"
      ]
     },
     "execution_count": 92,
     "metadata": {},
     "output_type": "execute_result"
    }
   ],
   "source": [
    "# must treat digits like \"letters\" with alphabetical rules\n",
    "'11' < '101'"
   ]
  },
  {
   "cell_type": "code",
   "execution_count": 93,
   "id": "a29af360-1405-4b8f-a84f-dc989ba8ffee",
   "metadata": {
    "slideshow": {
     "slide_type": "slide"
    },
    "tags": []
   },
   "outputs": [
    {
     "data": {
      "text/plain": [
       "True"
      ]
     },
     "execution_count": 93,
     "metadata": {},
     "output_type": "execute_result"
    }
   ],
   "source": [
    "'!' < '@' # the sorting of symbols feels very arbitrary"
   ]
  },
  {
   "cell_type": "code",
   "execution_count": 94,
   "id": "58f33b7b-2c15-4598-9cfc-6d6555f14967",
   "metadata": {
    "slideshow": {
     "slide_type": "fragment"
    },
    "tags": []
   },
   "outputs": [
    {
     "name": "stdout",
     "output_type": "stream",
     "text": [
      "['!', '#', '$', '%', '&', '(', ')', '*', ',', '.', '/', '0', '1', '2', '3', '4', '5', '6', '7', '8', '9', ':', ';', '<', '>', '?', '@', 'A', 'B', 'C', 'X', 'Y', 'Z', '[', '\\\\', ']', '^', 'a', 'b', 'c', 'x', 'y', 'z', '{', '|', '}']\n"
     ]
    }
   ],
   "source": [
    "# sorted order\n",
    "string = '!@#$%^&*()[]{}\\|;:,.<>/?1234567890ABCXYZabcxyz'\n",
    "x = sorted(string)\n",
    "print(x)"
   ]
  }
 ],
 "metadata": {
  "kernelspec": {
   "display_name": "Python 3 (ipykernel)",
   "language": "python",
   "name": "python3"
  },
  "language_info": {
   "codemirror_mode": {
    "name": "ipython",
    "version": 3
   },
   "file_extension": ".py",
   "mimetype": "text/x-python",
   "name": "python",
   "nbconvert_exporter": "python",
   "pygments_lexer": "ipython3",
   "version": "3.9.7"
  }
 },
 "nbformat": 4,
 "nbformat_minor": 5
}
